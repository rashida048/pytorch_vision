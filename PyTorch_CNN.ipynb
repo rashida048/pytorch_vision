{
  "nbformat": 4,
  "nbformat_minor": 0,
  "metadata": {
    "colab": {
      "provenance": []
    },
    "kernelspec": {
      "name": "python3",
      "display_name": "Python 3"
    },
    "language_info": {
      "name": "python"
    }
  },
  "cells": [
    {
      "cell_type": "code",
      "execution_count": null,
      "metadata": {
        "colab": {
          "base_uri": "https://localhost:8080/"
        },
        "id": "sfHtjg_3_UQ1",
        "outputId": "54b60dfd-a311-449b-b8e9-ee31096c86fd"
      },
      "outputs": [
        {
          "output_type": "stream",
          "name": "stdout",
          "text": [
            "--2023-10-24 01:36:28--  https://pyimagesearch-code-downloads.s3-us-west-2.amazonaws.com/pytorch-cnn/pytorch-cnn.zip\n",
            "Resolving pyimagesearch-code-downloads.s3-us-west-2.amazonaws.com (pyimagesearch-code-downloads.s3-us-west-2.amazonaws.com)... 3.5.82.132, 52.92.241.2, 3.5.82.125, ...\n",
            "Connecting to pyimagesearch-code-downloads.s3-us-west-2.amazonaws.com (pyimagesearch-code-downloads.s3-us-west-2.amazonaws.com)|3.5.82.132|:443... connected.\n",
            "HTTP request sent, awaiting response... 200 OK\n",
            "Length: 1771768 (1.7M) [binary/octet-stream]\n",
            "Saving to: ‘pytorch-cnn.zip’\n",
            "\n",
            "pytorch-cnn.zip     100%[===================>]   1.69M  3.92MB/s    in 0.4s    \n",
            "\n",
            "2023-10-24 01:36:29 (3.92 MB/s) - ‘pytorch-cnn.zip’ saved [1771768/1771768]\n",
            "\n",
            "/content/pytorch-cnn\n"
          ]
        }
      ],
      "source": [
        "!wget https://pyimagesearch-code-downloads.s3-us-west-2.amazonaws.com/pytorch-cnn/pytorch-cnn.zip\n",
        "!unzip -qq pytorch-cnn.zip\n",
        "%cd pytorch-cnn"
      ]
    },
    {
      "cell_type": "code",
      "source": [
        "# import the necessary packages\n",
        "from torch.nn import Module\n",
        "from torch.nn import Conv2d\n",
        "from torch.nn import Linear\n",
        "from torch.nn import MaxPool2d\n",
        "from torch.nn import ReLU\n",
        "from torch.nn import LogSoftmax\n",
        "from torch.optim import Adam\n",
        "from torch.utils.data import DataLoader\n",
        "from torchvision.transforms import ToTensor\n",
        "from torchvision.datasets import KMNIST\n",
        "from sklearn.metrics import classification_report\n",
        "from torch.utils.data import random_split\n",
        "from torch import flatten\n",
        "from torch import nn\n",
        "import matplotlib.pyplot as plt\n",
        "import numpy as np\n",
        "import torch\n",
        "import time"
      ],
      "metadata": {
        "id": "b9c_C9FI_X5h"
      },
      "execution_count": null,
      "outputs": []
    },
    {
      "cell_type": "code",
      "source": [
        "class LeNet(Module):\n",
        "  def __init__(self, numChannels, classes):\n",
        "    super(LeNet, self).__init__()\n",
        "    self.conv1 = Conv2d(in_channels=numChannels, out_channels=20, kernel_size=(5, 5))\n",
        "    self.relu1 = ReLU()\n",
        "    self.maxpool1 = MaxPool2d(kernel_size=(2, 2), stride=(2, 2))\n",
        "\n",
        "    self.conv2 = Conv2d(in_channels=20, out_channels=50, kernel_size=(5, 5))\n",
        "    self.relu2 = ReLU()\n",
        "    self.maxpool2 = MaxPool2d(kernel_size=(2, 2), stride=(2, 2))\n",
        "\n",
        "    self.fc1 = Linear(in_features=800, out_features=500)\n",
        "    self.relu3 = ReLU()\n",
        "\n",
        "    self.fc2 = Linear(in_features=500, out_features=classes)\n",
        "    self.logSoftmax = LogSoftmax(dim=1)\n",
        "\n",
        "  def forward(self, x):\n",
        "    x = self.conv1(x)\n",
        "    x = self.relu1(x)\n",
        "    x = self.maxpool1(x)\n",
        "\n",
        "    x = self.conv2(x)\n",
        "    x = self.relu2(x)\n",
        "    x = self.maxpool2(x)\n",
        "\n",
        "    x = flatten(x, 1)\n",
        "    x = self.fc1(x)\n",
        "    x = self.relu3(x)\n",
        "\n",
        "    x = self.fc2(x)\n",
        "\n",
        "    output = self.logSoftmax(x)\n",
        "\n",
        "    return output\n",
        "\n"
      ],
      "metadata": {
        "id": "CfPOL1Dc_fgq"
      },
      "execution_count": null,
      "outputs": []
    },
    {
      "cell_type": "code",
      "source": [
        "init_lr = 1e-3\n",
        "batch_size = 64\n",
        "epochs = 10\n",
        "\n",
        "train_split = 0.75\n",
        "val_split = 1-train_split\n",
        "device = torch.device(\"cuda\" if torch.cuda.is_available() else \"cpu\")"
      ],
      "metadata": {
        "id": "ZzOupxVJB9WB"
      },
      "execution_count": null,
      "outputs": []
    },
    {
      "cell_type": "code",
      "source": [
        "trainData = KMNIST(root = \"data\", train=True, download=True,\n",
        "                   transform=ToTensor())\n",
        "testData = KMNIST(root = \"data\", train = False, download=True,\n",
        "                  transform=ToTensor())\n",
        "\n",
        "numTrainSamples = int(len(trainData) * train_split)\n",
        "numValSamples = int(len(trainData) * val_split)\n",
        "\n",
        "(trainData, valData) = random_split(trainData,\n",
        "                                    [numTrainSamples, numValSamples],\n",
        "                                    generator = torch.Generator().manual_seed(42))"
      ],
      "metadata": {
        "colab": {
          "base_uri": "https://localhost:8080/"
        },
        "id": "QmTlRJT0CLF0",
        "outputId": "8c6fa028-09d0-403d-b13e-c60b471279b2"
      },
      "execution_count": null,
      "outputs": [
        {
          "output_type": "stream",
          "name": "stdout",
          "text": [
            "Downloading http://codh.rois.ac.jp/kmnist/dataset/kmnist/train-images-idx3-ubyte.gz\n",
            "Downloading http://codh.rois.ac.jp/kmnist/dataset/kmnist/train-images-idx3-ubyte.gz to data/KMNIST/raw/train-images-idx3-ubyte.gz\n"
          ]
        },
        {
          "output_type": "stream",
          "name": "stderr",
          "text": [
            "100%|██████████| 18165135/18165135 [00:16<00:00, 1118608.89it/s]\n"
          ]
        },
        {
          "output_type": "stream",
          "name": "stdout",
          "text": [
            "Extracting data/KMNIST/raw/train-images-idx3-ubyte.gz to data/KMNIST/raw\n",
            "\n",
            "Downloading http://codh.rois.ac.jp/kmnist/dataset/kmnist/train-labels-idx1-ubyte.gz\n",
            "Downloading http://codh.rois.ac.jp/kmnist/dataset/kmnist/train-labels-idx1-ubyte.gz to data/KMNIST/raw/train-labels-idx1-ubyte.gz\n"
          ]
        },
        {
          "output_type": "stream",
          "name": "stderr",
          "text": [
            "100%|██████████| 29497/29497 [00:00<00:00, 184148.70it/s]\n"
          ]
        },
        {
          "output_type": "stream",
          "name": "stdout",
          "text": [
            "Extracting data/KMNIST/raw/train-labels-idx1-ubyte.gz to data/KMNIST/raw\n",
            "\n",
            "Downloading http://codh.rois.ac.jp/kmnist/dataset/kmnist/t10k-images-idx3-ubyte.gz\n",
            "Downloading http://codh.rois.ac.jp/kmnist/dataset/kmnist/t10k-images-idx3-ubyte.gz to data/KMNIST/raw/t10k-images-idx3-ubyte.gz\n"
          ]
        },
        {
          "output_type": "stream",
          "name": "stderr",
          "text": [
            "100%|██████████| 3041136/3041136 [00:03<00:00, 817403.17it/s]\n"
          ]
        },
        {
          "output_type": "stream",
          "name": "stdout",
          "text": [
            "Extracting data/KMNIST/raw/t10k-images-idx3-ubyte.gz to data/KMNIST/raw\n",
            "\n",
            "Downloading http://codh.rois.ac.jp/kmnist/dataset/kmnist/t10k-labels-idx1-ubyte.gz\n",
            "Downloading http://codh.rois.ac.jp/kmnist/dataset/kmnist/t10k-labels-idx1-ubyte.gz to data/KMNIST/raw/t10k-labels-idx1-ubyte.gz\n"
          ]
        },
        {
          "output_type": "stream",
          "name": "stderr",
          "text": [
            "100%|██████████| 5120/5120 [00:00<00:00, 19647608.86it/s]\n"
          ]
        },
        {
          "output_type": "stream",
          "name": "stdout",
          "text": [
            "Extracting data/KMNIST/raw/t10k-labels-idx1-ubyte.gz to data/KMNIST/raw\n",
            "\n"
          ]
        }
      ]
    },
    {
      "cell_type": "code",
      "source": [
        "trainDataLoader = DataLoader(trainData, shuffle=True, batch_size=batch_size)\n",
        "valDataLoader = DataLoader(valData, batch_size =batch_size)\n",
        "testDataLoader = DataLoader(testData, batch_size =batch_size)\n",
        "\n",
        "trainSteps = len(trainDataLoader.dataset)//batch_size\n",
        "valSteps = len(valDataLoader.dataset) // batch_size"
      ],
      "metadata": {
        "id": "VrwGTKsqDOGk"
      },
      "execution_count": null,
      "outputs": []
    },
    {
      "cell_type": "code",
      "source": [
        "model = LeNet(\n",
        "    numChannels=1,\n",
        "    classes=len(trainData.dataset.classes)).to(device)\n",
        "\n",
        "opt = Adam(model.parameters(), lr= init_lr)\n",
        "lossFn = nn.NLLLoss()\n",
        "\n",
        "H = {\n",
        "    \"train_loss\": [],\n",
        "    \"train_acc\": [],\n",
        "    \"val_loss\": [],\n",
        "    \"val_acc\": []\n",
        "}"
      ],
      "metadata": {
        "id": "vMqA2y6HVkn7"
      },
      "execution_count": null,
      "outputs": []
    },
    {
      "cell_type": "code",
      "source": [
        "# measure how long training is going to take\n",
        "print(\"[INFO] training the network...\")\n",
        "startTime = time.time()\n",
        "\n",
        "# loop over our epochs\n",
        "for e in range(0, epochs):\n",
        "\t# set the model in training mode\n",
        "\tmodel.train()\n",
        "\n",
        "\t# initialize the total training and validation loss\n",
        "\ttotalTrainLoss = 0\n",
        "\ttotalValLoss = 0\n",
        "\n",
        "\t# initialize the number of correct predictions in the training\n",
        "\t# and validation step\n",
        "\ttrainCorrect = 0\n",
        "\tvalCorrect = 0\n",
        "\n",
        "\t# loop over the training set\n",
        "\tfor (x, y) in trainDataLoader:\n",
        "\t\t# send the input to the device\n",
        "\t\t(x, y) = (x.to(device), y.to(device))\n",
        "\n",
        "\t\t# perform a forward pass and calculate the training loss\n",
        "\t\tpred = model(x)\n",
        "\t\tloss = lossFn(pred, y)\n",
        "\n",
        "\t\t# zero out the gradients, perform the backpropagation step,\n",
        "\t\t# and update the weights\n",
        "\t\topt.zero_grad()\n",
        "\t\tloss.backward()\n",
        "\t\topt.step()\n",
        "\n",
        "\t\t# add the loss to the total training loss so far and\n",
        "\t\t# calculate the number of correct predictions\n",
        "\t\ttotalTrainLoss += loss\n",
        "\t\ttrainCorrect += (pred.argmax(1) == y).type(\n",
        "\t\t\ttorch.float).sum().item()\n",
        "\n",
        "\t# switch off autograd for evaluation\n",
        "\twith torch.no_grad():\n",
        "\t\t# set the model in evaluation mode\n",
        "\t\tmodel.eval()\n",
        "\n",
        "\t\t# loop over the validation set\n",
        "\t\tfor (x, y) in valDataLoader:\n",
        "\t\t\t# send the input to the device\n",
        "\t\t\t(x, y) = (x.to(device), y.to(device))\n",
        "\n",
        "\t\t\t# make the predictions and calculate the validation loss\n",
        "\t\t\tpred = model(x)\n",
        "\t\t\ttotalValLoss += lossFn(pred, y)\n",
        "\n",
        "\t\t\t# calculate the number of correct predictions\n",
        "\t\t\tvalCorrect += (pred.argmax(1) == y).type(\n",
        "\t\t\t\ttorch.float).sum().item()\n",
        "\n",
        "\t# calculate the average training and validation loss\n",
        "\tavgTrainLoss = totalTrainLoss / trainSteps\n",
        "\tavgValLoss = totalValLoss / valSteps\n",
        "\n",
        "\t# calculate the training and validation accuracy\n",
        "\ttrainCorrect = trainCorrect / len(trainDataLoader.dataset)\n",
        "\tvalCorrect = valCorrect / len(valDataLoader.dataset)\n",
        "\n",
        "\t# update our training history\n",
        "\tH[\"train_loss\"].append(avgTrainLoss.cpu().detach().numpy())\n",
        "\tH[\"train_acc\"].append(trainCorrect)\n",
        "\tH[\"val_loss\"].append(avgValLoss.cpu().detach().numpy())\n",
        "\tH[\"val_acc\"].append(valCorrect)\n",
        "\n",
        "\t# print the model training and validation information\n",
        "\tprint(\"[INFO] EPOCH: {}/{}\".format(e + 1, epochs))\n",
        "\tprint(\"Train loss: {:.6f}, Train accuracy: {:.4f}\".format(\n",
        "\t\tavgTrainLoss, trainCorrect))\n",
        "\tprint(\"Val loss: {:.6f}, Val accuracy: {:.4f}\\n\".format(\n",
        "\t\tavgValLoss, valCorrect))\n",
        "\n",
        "# finish measuring how long training took\n",
        "endTime = time.time()\n",
        "print(\"[INFO] total time taken to train the model: {:.2f}s\".format(\n",
        "\tendTime - startTime))"
      ],
      "metadata": {
        "colab": {
          "base_uri": "https://localhost:8080/"
        },
        "id": "YivkyMScWJqw",
        "outputId": "837bb2f5-dc00-4249-c449-6116ba871e04"
      },
      "execution_count": null,
      "outputs": [
        {
          "output_type": "stream",
          "name": "stdout",
          "text": [
            "[INFO] training the network...\n",
            "[INFO] EPOCH: 1/10\n",
            "Train loss: 0.243114, Train accuracy: 0.9259\n",
            "Val loss: 0.147889, Val accuracy: 0.9548\n",
            "\n",
            "[INFO] EPOCH: 2/10\n",
            "Train loss: 0.086953, Train accuracy: 0.9737\n",
            "Val loss: 0.085194, Val accuracy: 0.9743\n",
            "\n",
            "[INFO] EPOCH: 3/10\n",
            "Train loss: 0.053473, Train accuracy: 0.9835\n",
            "Val loss: 0.068562, Val accuracy: 0.9803\n",
            "\n",
            "[INFO] EPOCH: 4/10\n",
            "Train loss: 0.034531, Train accuracy: 0.9896\n",
            "Val loss: 0.071214, Val accuracy: 0.9789\n",
            "\n",
            "[INFO] EPOCH: 5/10\n",
            "Train loss: 0.022074, Train accuracy: 0.9927\n",
            "Val loss: 0.069275, Val accuracy: 0.9795\n",
            "\n",
            "[INFO] EPOCH: 6/10\n",
            "Train loss: 0.018441, Train accuracy: 0.9944\n",
            "Val loss: 0.078232, Val accuracy: 0.9789\n",
            "\n",
            "[INFO] EPOCH: 7/10\n",
            "Train loss: 0.014194, Train accuracy: 0.9954\n",
            "Val loss: 0.077999, Val accuracy: 0.9819\n",
            "\n",
            "[INFO] EPOCH: 8/10\n",
            "Train loss: 0.013360, Train accuracy: 0.9958\n",
            "Val loss: 0.092038, Val accuracy: 0.9786\n",
            "\n",
            "[INFO] EPOCH: 9/10\n",
            "Train loss: 0.012251, Train accuracy: 0.9959\n",
            "Val loss: 0.076819, Val accuracy: 0.9834\n",
            "\n",
            "[INFO] EPOCH: 10/10\n",
            "Train loss: 0.008082, Train accuracy: 0.9974\n",
            "Val loss: 0.080669, Val accuracy: 0.9818\n",
            "\n",
            "[INFO] total time taken to train the model: 480.68s\n"
          ]
        }
      ]
    },
    {
      "cell_type": "code",
      "source": [
        "with torch.no_grad():\n",
        "  model.eval()\n",
        "  preds = []\n",
        "\n",
        "  for (x, y) in testDataLoader:\n",
        "    x = x.to(device)\n",
        "\n",
        "    pred = model(x)\n",
        "    preds.extend(pred.argmax(axis=1).cpu().numpy())\n",
        "\n",
        "  print(classification_report(testData.targets.cpu().numpy(),\n",
        "                              np.array(preds), target_names=testData.classes))"
      ],
      "metadata": {
        "colab": {
          "base_uri": "https://localhost:8080/"
        },
        "id": "p-twcCSFaqVz",
        "outputId": "9931c4db-0399-462c-e3ee-d8708b27aa14"
      },
      "execution_count": null,
      "outputs": [
        {
          "output_type": "stream",
          "name": "stdout",
          "text": [
            "              precision    recall  f1-score   support\n",
            "\n",
            "           o       0.94      0.97      0.95      1000\n",
            "          ki       0.99      0.91      0.95      1000\n",
            "          su       0.94      0.90      0.92      1000\n",
            "         tsu       0.97      0.96      0.97      1000\n",
            "          na       0.93      0.94      0.94      1000\n",
            "          ha       0.96      0.94      0.95      1000\n",
            "          ma       0.90      0.98      0.94      1000\n",
            "          ya       0.98      0.92      0.95      1000\n",
            "          re       0.95      0.97      0.96      1000\n",
            "          wo       0.90      0.98      0.93      1000\n",
            "\n",
            "    accuracy                           0.95     10000\n",
            "   macro avg       0.95      0.95      0.95     10000\n",
            "weighted avg       0.95      0.95      0.95     10000\n",
            "\n"
          ]
        }
      ]
    },
    {
      "cell_type": "code",
      "source": [
        "# plot the training loss and accuracy\n",
        "plt.style.use(\"ggplot\")\n",
        "plt.figure()\n",
        "plt.plot(H[\"train_loss\"], label=\"train_loss\")\n",
        "plt.plot(H[\"val_loss\"], label=\"val_loss\")\n",
        "plt.plot(H[\"train_acc\"], label=\"train_acc\")\n",
        "plt.plot(H[\"val_acc\"], label=\"val_acc\")\n",
        "plt.title(\"Training Loss and Accuracy on Dataset\")\n",
        "plt.xlabel(\"Epoch #\")\n",
        "plt.ylabel(\"Loss/Accuracy\")\n",
        "plt.legend(loc=\"lower left\")\n",
        "plt.show()"
      ],
      "metadata": {
        "colab": {
          "base_uri": "https://localhost:8080/",
          "height": 477
        },
        "id": "F40WcVJ_cFze",
        "outputId": "3af6ba29-a50c-43c5-e541-e231ca8dfa68"
      },
      "execution_count": null,
      "outputs": [
        {
          "output_type": "display_data",
          "data": {
            "text/plain": [
              "<Figure size 640x480 with 1 Axes>"
            ],
            "image/png": "[encoded data removed]"
          },
          "metadata": {}
        }
      ]
    },
    {
      "cell_type": "code",
      "source": [],
      "metadata": {
        "id": "1-e8yexjdKQL"
      },
      "execution_count": null,
      "outputs": []
    }
  ]
}